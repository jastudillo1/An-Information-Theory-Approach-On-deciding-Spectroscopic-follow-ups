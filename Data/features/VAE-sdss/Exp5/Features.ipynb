{
 "cells": [
  {
   "cell_type": "code",
   "execution_count": 1,
   "metadata": {},
   "outputs": [],
   "source": [
    "from model import Model, enc_dec_tensors\n",
    "import numpy as np\n",
    "import os\n",
    "import tensorflow as tf"
   ]
  },
  {
   "cell_type": "code",
   "execution_count": 2,
   "metadata": {},
   "outputs": [],
   "source": [
    "config_path = './config.npy'\n",
    "features_dir = './features/'\n",
    "model_path = './models/model99.h5'\n",
    "x_path = '../data/specs-x-match.npy'"
   ]
  },
  {
   "cell_type": "code",
   "execution_count": 3,
   "metadata": {},
   "outputs": [],
   "source": [
    "config = np.load(config_path).item()\n",
    "spec = np.load(x_path).item()"
   ]
  },
  {
   "cell_type": "code",
   "execution_count": 4,
   "metadata": {},
   "outputs": [],
   "source": [
    "def get_enc_dec(x, config, model_path):\n",
    "    batch_size = x.shape[0]\n",
    "    original_dim = config['original_dim']\n",
    "    latent_dim = config['latent_dim']\n",
    "    rate = config['rate']\n",
    "\n",
    "    tf.reset_default_graph()\n",
    "    with tf.Session() as sess:\n",
    "        inputs, eps, _, _, _, _, _, _, _ = Model(batch_size, original_dim, latent_dim, rate)\n",
    "        enc_mean, dec_mean = enc_dec_tensors()\n",
    "\n",
    "        saver = tf.train.Saver()\n",
    "        saver.restore(sess, model_path)\n",
    "\n",
    "        eps_in = np.full([x.shape[0], latent_dim], 0)\n",
    "        feed_dict = {inputs: x, eps: eps_in}\n",
    "        enc_x, dec_x = sess.run([enc_mean, dec_mean],feed_dict=feed_dict)\n",
    "        \n",
    "    return enc_x, dec_x"
   ]
  },
  {
   "cell_type": "code",
   "execution_count": 5,
   "metadata": {},
   "outputs": [
    {
     "name": "stdout",
     "output_type": "stream",
     "text": [
      "[3794, 2848, 1902, 956, 11]\n",
      "INFO:tensorflow:Restoring parameters from ./models/model99.h5\n"
     ]
    }
   ],
   "source": [
    "x = spec['flux']\n",
    "enc_x, _ = get_enc_dec(x, config, model_path)\n",
    "spec['vae'] = enc_x"
   ]
  },
  {
   "cell_type": "code",
   "execution_count": 6,
   "metadata": {},
   "outputs": [],
   "source": [
    "features = {}\n",
    "features['names'] = spec['names']\n",
    "features['vae'] = spec['vae']"
   ]
  },
  {
   "cell_type": "markdown",
   "metadata": {},
   "source": [
    "### Save"
   ]
  },
  {
   "cell_type": "code",
   "execution_count": 7,
   "metadata": {},
   "outputs": [],
   "source": [
    "if not os.path.exists(features_dir):\n",
    "    os.makedirs(features_dir)\n",
    "np.save(features_dir+'features.npy', features)"
   ]
  }
 ],
 "metadata": {
  "kernelspec": {
   "display_name": "Python 3",
   "language": "python",
   "name": "python3"
  },
  "language_info": {
   "codemirror_mode": {
    "name": "ipython",
    "version": 3
   },
   "file_extension": ".py",
   "mimetype": "text/x-python",
   "name": "python",
   "nbconvert_exporter": "python",
   "pygments_lexer": "ipython3",
   "version": "3.6.8"
  }
 },
 "nbformat": 4,
 "nbformat_minor": 2
}
