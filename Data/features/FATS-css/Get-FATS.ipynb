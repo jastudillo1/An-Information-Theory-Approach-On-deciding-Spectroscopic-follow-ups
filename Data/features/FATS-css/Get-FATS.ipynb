{
 "cells": [
  {
   "cell_type": "code",
   "execution_count": null,
   "metadata": {},
   "outputs": [],
   "source": [
    "import FATS\n",
    "from glob import glob\n",
    "import numpy as np\n",
    "import pandas as pd\n",
    "from tqdm import tqdm"
   ]
  },
  {
   "cell_type": "code",
   "execution_count": null,
   "metadata": {},
   "outputs": [],
   "source": [
    "features = ['Amplitude',\n",
    "            'AndersonDarling',\n",
    "            'Autocor_length',\n",
    "            'Beyond1Std',\n",
    "            'CAR_sigma',\n",
    "            'CAR_mean',\n",
    "            'CAR_tau',\n",
    "            'Con',\n",
    "#             'Eta_e',\n",
    "            'FluxPercentileRatioMid20',\n",
    "            'FluxPercentileRatioMid35',\n",
    "            'FluxPercentileRatioMid50',\n",
    "            'FluxPercentileRatioMid65',\n",
    "            'FluxPercentileRatioMid80',\n",
    "            'Freq1_harmonics_amplitude_0',\n",
    "            'Freq1_harmonics_amplitude_1',\n",
    "            'Freq1_harmonics_amplitude_2',\n",
    "            'Freq1_harmonics_amplitude_3',\n",
    "            'Freq1_harmonics_rel_phase_0',\n",
    "            'Freq1_harmonics_rel_phase_1',\n",
    "            'Freq1_harmonics_rel_phase_2',\n",
    "            'Freq1_harmonics_rel_phase_3',\n",
    "            'Freq2_harmonics_amplitude_0',\n",
    "            'Freq2_harmonics_amplitude_1',\n",
    "            'Freq2_harmonics_amplitude_2',\n",
    "            'Freq2_harmonics_amplitude_3',\n",
    "            'Freq2_harmonics_rel_phase_0',\n",
    "            'Freq2_harmonics_rel_phase_1',\n",
    "            'Freq2_harmonics_rel_phase_2',\n",
    "            'Freq2_harmonics_rel_phase_3',\n",
    "            'Freq3_harmonics_amplitude_0',\n",
    "            'Freq3_harmonics_amplitude_1',\n",
    "            'Freq3_harmonics_amplitude_2',\n",
    "            'Freq3_harmonics_amplitude_3',\n",
    "            'Freq3_harmonics_rel_phase_0',\n",
    "            'Freq3_harmonics_rel_phase_1',\n",
    "            'Freq3_harmonics_rel_phase_2',\n",
    "            'Freq3_harmonics_rel_phase_3',\n",
    "            'LinearTrend',\n",
    "            'MaxSlope',\n",
    "            'Mean',\n",
    "            'Meanvariance',\n",
    "            'MedianAbsDev',\n",
    "            'MedianBRP',\n",
    "            'PairSlopeTrend',\n",
    "            'PercentAmplitude',\n",
    "            'PercentDifferenceFluxPercentile',\n",
    "            'PeriodLS',\n",
    "            'Period_fit',\n",
    "            'Psi_CS',\n",
    "            'Psi_eta',\n",
    "            'Q31',\n",
    "            'Rcs',\n",
    "            'Skew',\n",
    "            'SlottedA_length',\n",
    "            'SmallKurtosis',\n",
    "            'Std'\n",
    "           ]"
   ]
  },
  {
   "cell_type": "code",
   "execution_count": 1,
   "metadata": {},
   "outputs": [],
   "source": [
    "id_col = 'id'\n",
    "dir_ = '../../css-sdss/ts/'\n",
    "save_path = './fats.csv'"
   ]
  },
  {
   "cell_type": "code",
   "execution_count": null,
   "metadata": {},
   "outputs": [],
   "source": [
    "def push_fats(ts, fats, id_, id_col, features):\n",
    "    ts = np.array(ts.sort_values('mjd')[['mag','mjd','err']].values.T)\n",
    "    fs = FATS.FeatureSpace(Data=['magnitude','time', 'error'], featureList = features)\n",
    "    fs = fs.calculateFeature(ts)\n",
    "    res = fs.result(method='dict')\n",
    "    res[id_col] = int(id_)\n",
    "    return fats.append(res, ignore_index=True)"
   ]
  },
  {
   "cell_type": "code",
   "execution_count": null,
   "metadata": {},
   "outputs": [],
   "source": [
    "def get_fats(id_col, features, dir_):\n",
    "    files = glob(dir_+'*.csv')\n",
    "    fats = pd.DataFrame(columns=[id_col]+features)\n",
    "    for f in tqdm(files):\n",
    "        ts = pd.read_csv(f)\n",
    "        id_ = f.split('/')[-1].rstrip('.csv')\n",
    "        fats = push_fats(ts, fats, id_, id_col, features)\n",
    "    fats[id_col] = fats[id_col].astype(np.int64)\n",
    "    return fats"
   ]
  },
  {
   "cell_type": "code",
   "execution_count": null,
   "metadata": {},
   "outputs": [],
   "source": [
    "fats = get_fats(id_col, features, dir_)"
   ]
  },
  {
   "cell_type": "code",
   "execution_count": null,
   "metadata": {},
   "outputs": [],
   "source": [
    "fats.to_csv(save_path,index=False)"
   ]
  }
 ],
 "metadata": {
  "kernelspec": {
   "display_name": "Python 3",
   "language": "python",
   "name": "python3"
  },
  "language_info": {
   "codemirror_mode": {
    "name": "ipython",
    "version": 3
   },
   "file_extension": ".py",
   "mimetype": "text/x-python",
   "name": "python",
   "nbconvert_exporter": "python",
   "pygments_lexer": "ipython3",
   "version": "3.6.8"
  }
 },
 "nbformat": 4,
 "nbformat_minor": 2
}
