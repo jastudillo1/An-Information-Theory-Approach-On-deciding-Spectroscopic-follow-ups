{
 "cells": [
  {
   "cell_type": "code",
   "execution_count": 1,
   "metadata": {},
   "outputs": [],
   "source": [
    "from astropy.coordinates import SkyCoord\n",
    "import astropy.units as u\n",
    "import numpy as np\n",
    "import pandas as pd"
   ]
  },
  {
   "cell_type": "code",
   "execution_count": 2,
   "metadata": {},
   "outputs": [],
   "source": [
    "catalog_path = './catalog-original.txt'\n",
    "save_path = './catalog.txt'\n",
    "labels_path = 'distribution.csv'"
   ]
  },
  {
   "cell_type": "code",
   "execution_count": 5,
   "metadata": {},
   "outputs": [],
   "source": [
    "def format_coords(catalog):\n",
    "    ra, dec = catalog[['RA_(J2000)','Dec']].values.T\n",
    "    coords = SkyCoord(ra, dec, unit=(u.hourangle, u.deg))\n",
    "    ra_deg = coords.ra.degree\n",
    "    dec_deg = coords.dec.degree\n",
    "    catalog['ra'] = np.round(ra_deg, decimals=6)\n",
    "    catalog['dec'] = np.round(dec_deg, decimals=6)\n",
    "    return catalog\n",
    "\n",
    "def format_labels(catalog, labels_path):\n",
    "    labels = pd.read_csv(labels_path)\n",
    "    labels_str = labels['Type']\n",
    "    labels_id = labels['ID']\n",
    "    to_str = dict(zip(labels_id, labels_str))\n",
    "    catalog['label'] = catalog['Var_Type'].map(to_str)\n",
    "    return catalog"
   ]
  },
  {
   "cell_type": "code",
   "execution_count": 6,
   "metadata": {},
   "outputs": [],
   "source": [
    "catalog = pd.read_csv(catalog_path, delim_whitespace=True)\n",
    "catalog = format_coords(catalog)\n",
    "catalog = format_labels(catalog, labels_path)\n",
    "catalog.to_csv(save_path, index=False)"
   ]
  }
 ],
 "metadata": {
  "kernelspec": {
   "display_name": "Python 3",
   "language": "python",
   "name": "python3"
  },
  "language_info": {
   "codemirror_mode": {
    "name": "ipython",
    "version": 3
   },
   "file_extension": ".py",
   "mimetype": "text/x-python",
   "name": "python",
   "nbconvert_exporter": "python",
   "pygments_lexer": "ipython3",
   "version": "3.6.8"
  }
 },
 "nbformat": 4,
 "nbformat_minor": 2
}
