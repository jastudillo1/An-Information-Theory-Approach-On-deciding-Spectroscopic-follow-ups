{
 "cells": [
  {
   "cell_type": "code",
   "execution_count": 1,
   "metadata": {},
   "outputs": [],
   "source": [
    "import glob\n",
    "import numpy as np\n",
    "import os\n",
    "import pandas as pd"
   ]
  },
  {
   "cell_type": "code",
   "execution_count": 3,
   "metadata": {},
   "outputs": [],
   "source": [
    "ts_path = '../../css/CSDR1/photometry.csv'\n",
    "save_dir = './Batches/'"
   ]
  },
  {
   "cell_type": "markdown",
   "metadata": {},
   "source": [
    "## CSDR1"
   ]
  },
  {
   "cell_type": "code",
   "execution_count": 4,
   "metadata": {},
   "outputs": [],
   "source": [
    "def build_batches(ts_path, save_dir, batch_size=1000, dir_size=10):\n",
    "    ts = pd.read_csv(ts_path)\n",
    "    ts = ts.groupby('id', axis=0)\n",
    "    ts_mean = ts.mean()\n",
    "    ts_ids = ts_mean.index.values\n",
    "    ts_ra = ts_mean.ra.values\n",
    "    ts_dec = ts_mean.dec.values\n",
    "    coords = np.vstack([ts_ra, ts_dec]).T\n",
    "\n",
    "    N = coords.shape[0]\n",
    "    split_idx = list(range(batch_size, N, batch_size))\n",
    "    batches = np.split(coords, split_idx, axis=0)\n",
    "\n",
    "    N = len(batches)\n",
    "    split_idx = list(range(dir_size, N, dir_size))\n",
    "    dirs = np.split(batches, split_idx, axis=0)\n",
    "\n",
    "    for i, dir_ in enumerate(dirs):\n",
    "        dir_path = save_dir + '/' + str(i)\n",
    "        if not os.path.exists(dir_path):\n",
    "            os.makedirs(dir_path)\n",
    "        for j, batch in enumerate(dir_):\n",
    "            offset = i*dir_size\n",
    "            path = dir_path + '/batch' + str(offset+j) + '.txt'\n",
    "            np.savetxt(path, batch, delimiter=',', fmt='%.6f')"
   ]
  },
  {
   "cell_type": "code",
   "execution_count": 5,
   "metadata": {},
   "outputs": [],
   "source": [
    "build_batches(ts_path, save_dir)"
   ]
  }
 ],
 "metadata": {
  "kernelspec": {
   "display_name": "Python 3",
   "language": "python",
   "name": "python3"
  },
  "language_info": {
   "codemirror_mode": {
    "name": "ipython",
    "version": 3
   },
   "file_extension": ".py",
   "mimetype": "text/x-python",
   "name": "python",
   "nbconvert_exporter": "python",
   "pygments_lexer": "ipython3",
   "version": "3.6.8"
  }
 },
 "nbformat": 4,
 "nbformat_minor": 2
}
