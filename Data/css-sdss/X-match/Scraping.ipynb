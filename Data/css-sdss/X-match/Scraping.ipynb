{
 "cells": [
  {
   "cell_type": "code",
   "execution_count": null,
   "metadata": {},
   "outputs": [],
   "source": [
    "from selenium import webdriver\n",
    "from selenium.webdriver.common.keys import Keys\n",
    "from selenium.webdriver.support.ui import WebDriverWait\n",
    "from selenium.webdriver.support import expected_conditions as EC\n",
    "from selenium.webdriver.common.by import By\n",
    "import glob\n",
    "import os\n",
    "from time import sleep\n",
    "from tqdm import tqdm"
   ]
  },
  {
   "cell_type": "code",
   "execution_count": null,
   "metadata": {},
   "outputs": [],
   "source": [
    "open_dir = './Batches/0/'"
   ]
  },
  {
   "cell_type": "code",
   "execution_count": null,
   "metadata": {},
   "outputs": [],
   "source": [
    "def expandResults(wait,driver):    \n",
    "    # Click expand button\n",
    "    selector = '#results > div.bootstrap-table > div.fixed-table-container > div.fixed-table-pagination > div.pull-left.pagination-detail > span.page-list > span > button'\n",
    "    wait.until(EC.presence_of_element_located((By.CSS_SELECTOR, selector))) \n",
    "    driver.find_element_by_css_selector(selector).click()\n",
    "    \n",
    "    # Select\n",
    "    selector = \"#results > div.bootstrap-table > div.fixed-table-container > div.fixed-table-pagination > div.pull-left.pagination-detail > span.page-list > span > ul > li > a\"\n",
    "    options = driver.find_elements_by_css_selector(selector)\n",
    "    options[-1].click()"
   ]
  },
  {
   "cell_type": "code",
   "execution_count": null,
   "metadata": {},
   "outputs": [],
   "source": [
    "def downloadFITS(batchPath, driver, wait):\n",
    "    # Clean text area\n",
    "    driver.find_element_by_id('ra_dec_csv').clear()\n",
    "    # Insert coords\n",
    "    driver.find_element_by_id('ra_dec').send_keys(batchPath)\n",
    "    # Search\n",
    "    driver.find_element_by_id('bulk_search').click()\n",
    "    \n",
    "    # Check if there are results\n",
    "    selector = '#bulk > fieldset > legend > span'\n",
    "    elem = driver.find_element_by_css_selector(selector)\n",
    "    numResults = int(elem.text.split(' ')[1])\n",
    "    if numResults ==0:\n",
    "        return\n",
    "    \n",
    "    # Wait for first results to be loaded\n",
    "    wait.until(EC.presence_of_element_located((By.CSS_SELECTOR, '#table > tbody > tr:nth-child(1) > td:nth-child(11) > a')))\n",
    "    \n",
    "    # Expand results fi necessary\n",
    "    if numResults >10:\n",
    "        expandResults(wait,driver)\n",
    "    \n",
    "    # Wait results view\n",
    "    sleep(2)\n",
    "    wait.until(EC.invisibility_of_element_located((By.CSS_SELECTOR, 'div.fixed-table-loading')))\n",
    "    \n",
    "    # Download .fits\n",
    "    elems = driver.find_elements_by_css_selector('#table > tbody > tr > td:nth-child(11) > a')\n",
    "    print(str(numResults)+\",\"+str(len(elems)))\n",
    "    for e in elems:\n",
    "        sleep(2)\n",
    "        e.click()"
   ]
  },
  {
   "cell_type": "code",
   "execution_count": null,
   "metadata": {},
   "outputs": [],
   "source": [
    "def retrieveURLS(open_dir):\n",
    "    driver = webdriver.Chrome('./chromedriver')\n",
    "    driver.get('https://dr14.sdss.org/optical/spectrum/search')\n",
    "    \n",
    "    # General settings\n",
    "    # Bulk Search\n",
    "    driver.find_element_by_id('select_bulk_search').click()\n",
    "    wait = WebDriverWait(driver, 300)\n",
    "    # Radius\n",
    "    driver.find_element_by_id('radius').send_keys('0.02')\n",
    "    # Decimal\n",
    "    driver.find_element_by_css_selector('#option > div:nth-child(2) > div > div > ul > li > div > label:nth-child(2)').click() \n",
    "    \n",
    "    files = glob.glob(open_dir+'*.txt')\n",
    "    files = [os.path.abspath(f) for f in files]\n",
    "    print(files)\n",
    "    for batchPath in tqdm(files): \n",
    "        downloadFITS(batchPath, driver, wait)\n",
    "        os.remove(batchPath)\n",
    "    os.rmdir(open_dir)\n",
    "    driver.close()"
   ]
  },
  {
   "cell_type": "code",
   "execution_count": null,
   "metadata": {
    "scrolled": false
   },
   "outputs": [],
   "source": [
    "retrieveURLS(open_dir)"
   ]
  }
 ],
 "metadata": {
  "kernelspec": {
   "display_name": "Python 2",
   "language": "python",
   "name": "python2"
  },
  "language_info": {
   "codemirror_mode": {
    "name": "ipython",
    "version": 2
   },
   "file_extension": ".py",
   "mimetype": "text/x-python",
   "name": "python",
   "nbconvert_exporter": "python",
   "pygments_lexer": "ipython2",
   "version": "2.7.15"
  }
 },
 "nbformat": 4,
 "nbformat_minor": 2
}
