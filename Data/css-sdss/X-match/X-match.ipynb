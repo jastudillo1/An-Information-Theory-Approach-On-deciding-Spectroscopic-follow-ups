{
 "cells": [
  {
   "cell_type": "code",
   "execution_count": 1,
   "metadata": {},
   "outputs": [],
   "source": [
    "from astropy import units as u\n",
    "from astropy.coordinates import SkyCoord\n",
    "from astropy.io import fits\n",
    "from glob import glob\n",
    "import numpy as np\n",
    "import os\n",
    "import pandas as pd\n",
    "from time import time\n",
    "from tqdm import tqdm"
   ]
  },
  {
   "cell_type": "code",
   "execution_count": 2,
   "metadata": {},
   "outputs": [],
   "source": [
    "keys_path = './keys.csv'\n",
    "spec_dir = '../spectra/'\n",
    "ts_catalog_path = '../../css/CSDR1/catalog.txt'\n",
    "ts_path = '../../css/CSDR1/photometry.csv'\n",
    "ts_dir = '../ts/'"
   ]
  },
  {
   "cell_type": "markdown",
   "metadata": {},
   "source": [
    "## X-Match table"
   ]
  },
  {
   "cell_type": "code",
   "execution_count": 3,
   "metadata": {},
   "outputs": [],
   "source": [
    "def get_spec_coords(spec_dir, num_specs = None):\n",
    "    spec_names = os.listdir(spec_dir)\n",
    "    ra_all = []\n",
    "    dec_all = []\n",
    "    tel_all = []\n",
    "    if not num_specs is None:\n",
    "        spec_names = spec_names[:num_specs]\n",
    "    for i,name in enumerate(spec_names):\n",
    "        spec_path = spec_dir + name\n",
    "        spec = fits.open(spec_path)\n",
    "        ra = spec[0].header['PLUG_RA']\n",
    "        dec = spec[0].header['PLUG_DEC']\n",
    "        tel = spec[0].header['TELESCOP']\n",
    "        ra_all.append(ra)\n",
    "        dec_all.append(dec)\n",
    "        tel_all.append(tel)\n",
    "    spec_names = np.array(spec_names)\n",
    "    ra_all = np.array(ra_all)\n",
    "    dec_all = np.array(dec_all)\n",
    "    tel_all = np.array(tel_all)\n",
    "    return spec_names, ra_all, dec_all, tel_all"
   ]
  },
  {
   "cell_type": "code",
   "execution_count": 4,
   "metadata": {},
   "outputs": [],
   "source": [
    "def x_match_df(spec_dir, ts_catalog_path, ts_path):\n",
    "    spec_ids, spec_ra, spec_dec, _ = get_spec_coords(spec_dir)\n",
    "    spec_coords = SkyCoord(ra=spec_ra*u.degree, dec=spec_dec*u.degree)  \n",
    "    ts = pd.read_csv(ts_path)\n",
    "    ts = ts.groupby('id', axis=0)\n",
    "    ts_mean = ts.mean()\n",
    "    ts_ids = ts_mean.index.values\n",
    "    ts_ra = ts_mean.ra.values\n",
    "    ts_dec = ts_mean.dec.values\n",
    "    ts_coords = SkyCoord(ra=ts_ra*u.degree, dec=ts_dec*u.degree)\n",
    "    ts_catalog = pd.read_csv(ts_catalog_path)\n",
    "    ts_catalog = ts_catalog.set_index('Numerical_ID')\n",
    "\n",
    "    idx, d2d, d3d = spec_coords.match_to_catalog_sky(ts_coords)\n",
    "    distance = d2d.arcsecond\n",
    "    keep = distance <= 2\n",
    "\n",
    "    spec_ids = spec_ids[keep]\n",
    "    ts_ids = ts_ids[idx][keep]\n",
    "    labels = ts_catalog['label'].loc[ts_ids].values\n",
    "    x_match = np.array([spec_ids, ts_ids, labels]).transpose()\n",
    "    x_match = pd.DataFrame(x_match, columns = ['sloan_file', 'css_num_ID', 'label'])\n",
    "    x_match.css_num_ID = x_match.css_num_ID.astype(str)\n",
    "    return x_match"
   ]
  },
  {
   "cell_type": "code",
   "execution_count": 5,
   "metadata": {},
   "outputs": [],
   "source": [
    "x_match = x_match_df(spec_dir, ts_catalog_path, ts_path)\n",
    "x_match.to_csv(keys_path, header=True, index=False)"
   ]
  },
  {
   "cell_type": "code",
   "execution_count": 6,
   "metadata": {},
   "outputs": [
    {
     "data": {
      "text/html": [
       "<div>\n",
       "<style scoped>\n",
       "    .dataframe tbody tr th:only-of-type {\n",
       "        vertical-align: middle;\n",
       "    }\n",
       "\n",
       "    .dataframe tbody tr th {\n",
       "        vertical-align: top;\n",
       "    }\n",
       "\n",
       "    .dataframe thead th {\n",
       "        text-align: right;\n",
       "    }\n",
       "</style>\n",
       "<table border=\"1\" class=\"dataframe\">\n",
       "  <thead>\n",
       "    <tr style=\"text-align: right;\">\n",
       "      <th></th>\n",
       "      <th>sloan_file</th>\n",
       "      <th>css_num_ID</th>\n",
       "      <th>label</th>\n",
       "    </tr>\n",
       "  </thead>\n",
       "  <tbody>\n",
       "    <tr>\n",
       "      <th>0</th>\n",
       "      <td>spec-2112-53534-0521.fits</td>\n",
       "      <td>1132062052528</td>\n",
       "      <td>RRc</td>\n",
       "    </tr>\n",
       "    <tr>\n",
       "      <th>1</th>\n",
       "      <td>spec-3307-54970-0075.fits</td>\n",
       "      <td>1001072050924</td>\n",
       "      <td>EW</td>\n",
       "    </tr>\n",
       "    <tr>\n",
       "      <th>2</th>\n",
       "      <td>spec-2477-54058-0261.fits</td>\n",
       "      <td>1121054053106</td>\n",
       "      <td>RRab</td>\n",
       "    </tr>\n",
       "    <tr>\n",
       "      <th>3</th>\n",
       "      <td>spec-2502-54180-0319.fits</td>\n",
       "      <td>1118059048329</td>\n",
       "      <td>RRc</td>\n",
       "    </tr>\n",
       "    <tr>\n",
       "      <th>4</th>\n",
       "      <td>spec-2474-54564-0169.fits</td>\n",
       "      <td>1126077024700</td>\n",
       "      <td>RRc</td>\n",
       "    </tr>\n",
       "  </tbody>\n",
       "</table>\n",
       "</div>"
      ],
      "text/plain": [
       "                  sloan_file     css_num_ID label\n",
       "0  spec-2112-53534-0521.fits  1132062052528   RRc\n",
       "1  spec-3307-54970-0075.fits  1001072050924    EW\n",
       "2  spec-2477-54058-0261.fits  1121054053106  RRab\n",
       "3  spec-2502-54180-0319.fits  1118059048329   RRc\n",
       "4  spec-2474-54564-0169.fits  1126077024700   RRc"
      ]
     },
     "execution_count": 6,
     "metadata": {},
     "output_type": "execute_result"
    }
   ],
   "source": [
    "check = pd.read_csv(keys_path)\n",
    "check.css_num_ID = check.css_num_ID.astype(str)\n",
    "check.head()"
   ]
  },
  {
   "cell_type": "code",
   "execution_count": 7,
   "metadata": {},
   "outputs": [
    {
     "data": {
      "text/plain": [
       "True"
      ]
     },
     "execution_count": 7,
     "metadata": {},
     "output_type": "execute_result"
    }
   ],
   "source": [
    "check.equals(x_match)"
   ]
  },
  {
   "cell_type": "code",
   "execution_count": 8,
   "metadata": {},
   "outputs": [
    {
     "data": {
      "text/plain": [
       "((3296, 3), 2683)"
      ]
     },
     "execution_count": 8,
     "metadata": {},
     "output_type": "execute_result"
    }
   ],
   "source": [
    "check.shape, len(np.unique(check.css_num_ID))"
   ]
  },
  {
   "cell_type": "markdown",
   "metadata": {},
   "source": [
    "## Gather Time Series"
   ]
  },
  {
   "cell_type": "code",
   "execution_count": 9,
   "metadata": {},
   "outputs": [],
   "source": [
    "if not os.path.exists(ts_dir):\n",
    "    os.makedirs(ts_dir)"
   ]
  },
  {
   "cell_type": "code",
   "execution_count": 10,
   "metadata": {},
   "outputs": [],
   "source": [
    "def gather_ts(ts_path, keys):\n",
    "    t0 = time()\n",
    "    ts = pd.read_csv(ts_path)\n",
    "    ts.id = ts.id.astype(str)\n",
    "    t1 = time()\n",
    "    print('Time to read: ', str(np.round(t1-t0, decimals=2)),'s.')\n",
    "    \n",
    "    ts = ts.groupby('id', axis=0)\n",
    "    for ts_i, k in tqdm(zip(ts, keys)):\n",
    "        path = ts_dir + str(k) + '.csv'\n",
    "        ts_i = ts.get_group(k)\n",
    "        ts_i.to_csv(path, index=False)\n",
    "    t2 = time()\n",
    "    print('Time to split and save: ', str(np.round(t2-t1, decimals=2)), 's.')"
   ]
  },
  {
   "cell_type": "code",
   "execution_count": 11,
   "metadata": {},
   "outputs": [
    {
     "name": "stderr",
     "output_type": "stream",
     "text": [
      "\r",
      "0it [00:00, ?it/s]"
     ]
    },
    {
     "name": "stdout",
     "output_type": "stream",
     "text": [
      "Time to read:  18.47 s.\n"
     ]
    },
    {
     "name": "stderr",
     "output_type": "stream",
     "text": [
      "2683it [00:12, 208.27it/s]\n"
     ]
    },
    {
     "name": "stdout",
     "output_type": "stream",
     "text": [
      "Time to split and save:  13.03 s.\n"
     ]
    }
   ],
   "source": [
    "keys = np.unique(x_match.css_num_ID)\n",
    "gather_ts(ts_path, keys)"
   ]
  }
 ],
 "metadata": {
  "kernelspec": {
   "display_name": "Python 3",
   "language": "python",
   "name": "python3"
  },
  "language_info": {
   "codemirror_mode": {
    "name": "ipython",
    "version": 3
   },
   "file_extension": ".py",
   "mimetype": "text/x-python",
   "name": "python",
   "nbconvert_exporter": "python",
   "pygments_lexer": "ipython3",
   "version": "3.6.8"
  }
 },
 "nbformat": 4,
 "nbformat_minor": 2
}
