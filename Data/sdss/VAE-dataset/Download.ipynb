{
 "cells": [
  {
   "cell_type": "code",
   "execution_count": null,
   "metadata": {},
   "outputs": [],
   "source": [
    "from collections import defaultdict\n",
    "import importlib\n",
    "import joblib.parallel\n",
    "from joblib import Parallel, delayed\n",
    "import multiprocessing\n",
    "import numpy as np\n",
    "import os\n",
    "import pandas as pd\n",
    "from tqdm import tqdm\n",
    "from time import time\n",
    "from utils import get_spec"
   ]
  },
  {
   "cell_type": "code",
   "execution_count": null,
   "metadata": {},
   "outputs": [],
   "source": [
    "keys_path = './keys.csv'\n",
    "save_dir = './spectra/'"
   ]
  },
  {
   "cell_type": "code",
   "execution_count": null,
   "metadata": {},
   "outputs": [],
   "source": [
    "if not os.path.exists(save_dir):\n",
    "    os.makedirs(save_dir)"
   ]
  },
  {
   "cell_type": "code",
   "execution_count": null,
   "metadata": {},
   "outputs": [],
   "source": [
    "keys = pd.read_csv(keys_path)\n",
    "print(len(keys))\n",
    "keys.head()"
   ]
  },
  {
   "cell_type": "code",
   "execution_count": null,
   "metadata": {},
   "outputs": [],
   "source": [
    "class BatchCompletionCallBack(object):\n",
    "  completed = defaultdict(int)\n",
    "\n",
    "  def __init__(self, time, index, parallel):\n",
    "    self.index = index\n",
    "    self.parallel = parallel\n",
    "\n",
    "  def __call__(self, index):\n",
    "    BatchCompletionCallBack.completed[self.parallel] += 1\n",
    "    progr = BatchCompletionCallBack.completed[self.parallel]\n",
    "    if progr in progr_index:\n",
    "        perc = float(progr)/float(total)\n",
    "        t = time()-init_time\n",
    "        print(\"Progress: \",\"%0.2f\"% (perc), \"%, Time: \", \"%0.2f\"% t, \"s.\")\n",
    "        progr_index.remove(progr)\n",
    "    if self.parallel._original_iterator is not None:\n",
    "        self.parallel.dispatch_next()\n",
    "\n",
    "joblib.parallel.BatchCompletionCallBack = BatchCompletionCallBack"
   ]
  },
  {
   "cell_type": "code",
   "execution_count": null,
   "metadata": {},
   "outputs": [],
   "source": [
    "total = len(keys)\n",
    "progr_index = [total/10*i for i in range(10)]\n",
    "progr_index = set(np.array(np.floor(progr_index), dtype=np.int32))\n",
    "\n",
    "n_cores = multiprocessing.cpu_count()\n",
    "init_time = time()\n",
    "res = Parallel(n_jobs=8)(delayed(get_spec)(row, save_dir) for index,row in keys.iterrows())\n",
    "e = time()\n",
    "print(\"Total time: \", e-init_time, \"s.\")"
   ]
  }
 ],
 "metadata": {
  "kernelspec": {
   "display_name": "Python 3",
   "language": "python",
   "name": "python3"
  },
  "language_info": {
   "codemirror_mode": {
    "name": "ipython",
    "version": 3
   },
   "file_extension": ".py",
   "mimetype": "text/x-python",
   "name": "python",
   "nbconvert_exporter": "python",
   "pygments_lexer": "ipython3",
   "version": "3.6.8"
  }
 },
 "nbformat": 4,
 "nbformat_minor": 2
}
