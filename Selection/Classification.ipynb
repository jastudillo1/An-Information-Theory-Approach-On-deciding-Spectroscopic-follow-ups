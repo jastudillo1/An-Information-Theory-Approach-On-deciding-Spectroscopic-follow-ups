{
 "cells": [
  {
   "cell_type": "code",
   "execution_count": 1,
   "metadata": {},
   "outputs": [
    {
     "name": "stderr",
     "output_type": "stream",
     "text": [
      "Using TensorFlow backend.\n"
     ]
    }
   ],
   "source": [
    "import itertools\n",
    "from keras.models import load_model\n",
    "import matplotlib.pyplot as plt\n",
    "import matplotlib.patches as mpatches\n",
    "import numpy as np\n",
    "import os\n",
    "import pandas as pd\n",
    "from sklearn.model_selection import cross_val_predict, StratifiedKFold\n",
    "from sklearn.ensemble import RandomForestClassifier\n",
    "from sklearn import metrics\n",
    "from sklearn.decomposition import PCA\n",
    "from sklearn.manifold import TSNE\n",
    "from time import time\n",
    "import pickle\n",
    "from tabulate import tabulate\n",
    "%matplotlib inline"
   ]
  },
  {
   "cell_type": "markdown",
   "metadata": {},
   "source": [
    "### Data"
   ]
  },
  {
   "cell_type": "code",
   "execution_count": 2,
   "metadata": {},
   "outputs": [],
   "source": [
    "ts_key = 'ts_features'\n",
    "spec_key = 'spec_features'\n",
    "labels_key = 'labels'\n",
    "model_dir = './models/'\n",
    "if not os.path.exists(model_dir):\n",
    "    os.makedirs(model_dir)\n",
    "t0 = time()"
   ]
  },
  {
   "cell_type": "code",
   "execution_count": 3,
   "metadata": {},
   "outputs": [
    {
     "name": "stdout",
     "output_type": "stream",
     "text": [
      "['fats', 'fats_keys', 'ts_names', 'vae', 'vae_keys', 'spec_names', 'labels', 'ts_features', 'spec_features']\n",
      "TS features shape: (2554, 7)\n",
      "Spectra features shape: (2554, 2)\n"
     ]
    }
   ],
   "source": [
    "db = np.load('./db.npy').item()\n",
    "print(list(db.keys()))\n",
    "print('TS features shape:', db['ts_features'].shape)\n",
    "print('Spectra features shape:', db['spec_features'].shape)"
   ]
  },
  {
   "cell_type": "markdown",
   "metadata": {},
   "source": [
    "Check if features in [0,1] range"
   ]
  },
  {
   "cell_type": "code",
   "execution_count": 4,
   "metadata": {},
   "outputs": [
    {
     "name": "stdout",
     "output_type": "stream",
     "text": [
      "[[0. 1.]\n",
      " [0. 1.]\n",
      " [0. 1.]\n",
      " [0. 1.]\n",
      " [0. 1.]\n",
      " [0. 1.]\n",
      " [0. 1.]]\n",
      "[[0. 1.]\n",
      " [0. 1.]]\n"
     ]
    }
   ],
   "source": [
    "# Normalize\n",
    "min_max_ts = np.array([db[ts_key].min(axis=0), db[ts_key].max(axis=0)]).T\n",
    "min_max_spec = np.array([db[spec_key].min(axis=0), db[spec_key].max(axis=0)]).T\n",
    "print(np.around(min_max_ts, 3))\n",
    "print(np.around(min_max_spec, 3))"
   ]
  },
  {
   "cell_type": "markdown",
   "metadata": {},
   "source": [
    "### Utils"
   ]
  },
  {
   "cell_type": "code",
   "execution_count": 5,
   "metadata": {},
   "outputs": [],
   "source": [
    "def plot_cm(y_true, y_pred, normalize=False, title='Confusion matrix',cmap=plt.cm.Blues):\n",
    "    \n",
    "    labels = np.unique(y_true)\n",
    "    cm = metrics.confusion_matrix(y_true, y_pred, labels=labels)\n",
    "    \n",
    "    if normalize:\n",
    "        cm = cm.astype('float') / cm.sum(axis=1)[:, np.newaxis]\n",
    "        print(\"Normalized confusion matrix\")\n",
    "    else:\n",
    "        print('Confusion matrix, without normalization')\n",
    "\n",
    "    plt.imshow(cm, interpolation='nearest', cmap=cmap)\n",
    "    plt.title(title)\n",
    "    plt.colorbar()\n",
    "    tick_marks = np.arange(len(labels))\n",
    "    plt.xticks(tick_marks, labels, rotation=45)\n",
    "    plt.yticks(tick_marks, labels)\n",
    "\n",
    "    fmt = '.2f' if normalize else 'd'\n",
    "    thresh = cm.max() / 2.\n",
    "    for i, j in itertools.product(range(cm.shape[0]), range(cm.shape[1])):\n",
    "        plt.text(j, i, format(cm[i, j], fmt),\n",
    "                 horizontalalignment=\"center\",\n",
    "                 color=\"white\" if cm[i, j] > thresh else \"black\")\n",
    "\n",
    "    plt.tight_layout()\n",
    "    plt.ylabel('True label')\n",
    "    plt.xlabel('Predicted label')\n",
    "    plt.show()\n",
    "    \n",
    "def train_predict_rf(data, target, save=False, base_path=None):\n",
    "    print(\"Features dim:\", data.shape[-1])\n",
    "    \n",
    "    skf = StratifiedKFold(n_splits=10)\n",
    "    probs_kfold = []\n",
    "    target_kfold = []\n",
    "    i = 0 \n",
    "    for train_index, test_index in skf.split(data, target):\n",
    "        clf = RandomForestClassifier(n_estimators=200)\n",
    "        clf.fit(data[train_index], target[train_index])\n",
    "        probs = clf.predict_proba(data[test_index])\n",
    "        k_df = pd.DataFrame(probs, columns=clf.classes_)\n",
    "        k_df[\"index\"] = test_index\n",
    "        k_df[\"target\"] = target[test_index]\n",
    "        if save:\n",
    "            pickle.dump(clf, open(base_path+str(i)+'.model', 'wb'))\n",
    "            k_df[\"rf_index\"] = i\n",
    "        probs_kfold.append(k_df)\n",
    "        i +=1\n",
    "    probs_df = pd.concat(probs_kfold)\n",
    "    probs_df = probs_df.set_index(\"index\")\n",
    "    probs_df = probs_df.sort_index()\n",
    "    \n",
    "    # Check if all index\n",
    "    all_in = np.array_equal(probs_df.index, list(range(data.shape[0])))\n",
    "    if not all_in:\n",
    "        print(\"Not all index in\")\n",
    "        return None\n",
    "    cls_cols = list(set(probs_df.columns) -set([\"rf_index\", \"target\"]))\n",
    "    pred_int = np.argmax(probs_df[cls_cols].values, axis=1)\n",
    "    str_classes = dict(zip(range(len(cls_cols)), cls_cols))\n",
    "    pred = list(map(lambda x: str_classes[x], pred_int))\n",
    "    \n",
    "    acc = metrics.accuracy_score(target,pred)\n",
    "    print(\"Accuracy: \", acc)\n",
    "    \n",
    "    labels = cls_cols\n",
    "    f1_score = metrics.f1_score(target, pred, labels = labels, average=None)\n",
    "    f1_score = list((np.round(f1_score,decimals=3)).reshape((1,-1))[0])\n",
    "    f1_score = [[\"F-score\"] + f1_score]\n",
    "    table = tabulate(f1_score, labels, tablefmt=\"fancy_grid\")\n",
    "    print(table)\n",
    "\n",
    "    plt.figure(figsize=(6,6))\n",
    "    plot_cm(target, pred, normalize=False)\n",
    "    \n",
    "    return probs_df"
   ]
  },
  {
   "cell_type": "markdown",
   "metadata": {},
   "source": [
    "### Labels"
   ]
  },
  {
   "cell_type": "code",
   "execution_count": 6,
   "metadata": {},
   "outputs": [
    {
     "data": {
      "text/plain": [
       "{'EA': 148, 'EW': 749, 'RRab': 343, 'RRc': 1193, 'RRd': 78, 'RS CVn': 43}"
      ]
     },
     "execution_count": 6,
     "metadata": {},
     "output_type": "execute_result"
    }
   ],
   "source": [
    "target = db[labels_key]\n",
    "vals, counts = np.unique(target, return_counts=True)\n",
    "dict(zip(vals, counts))"
   ]
  },
  {
   "cell_type": "markdown",
   "metadata": {},
   "source": [
    "### TS Classify"
   ]
  },
  {
   "cell_type": "code",
   "execution_count": 7,
   "metadata": {},
   "outputs": [
    {
     "name": "stdout",
     "output_type": "stream",
     "text": [
      "Features dim: 7\n",
      "Accuracy:  0.8472983555207517\n",
      "╒═════════╤═══════╤═══════╤═══════╤══════════╤═══════╤════════╕\n",
      "│         │   RRd │   RRc │    EW │   RS CVn │    EA │   RRab │\n",
      "╞═════════╪═══════╪═══════╪═══════╪══════════╪═══════╪════════╡\n",
      "│ F-score │ 0.067 │ 0.893 │ 0.837 │    0.419 │ 0.847 │  0.842 │\n",
      "╘═════════╧═══════╧═══════╧═══════╧══════════╧═══════╧════════╛\n",
      "Confusion matrix, without normalization\n"
     ]
    },
    {
     "data": {
      "image/png": "[encoded data removed]",
      "text/plain": [
       "<Figure size 432x432 with 2 Axes>"
      ]
     },
     "metadata": {
      "needs_background": "light"
     },
     "output_type": "display_data"
    }
   ],
   "source": [
    "data = db[ts_key]\n",
    "probs_ts = train_predict_rf(data, target, save=False, base_path=None)"
   ]
  },
  {
   "cell_type": "markdown",
   "metadata": {},
   "source": [
    "### Spec Classify"
   ]
  },
  {
   "cell_type": "code",
   "execution_count": 8,
   "metadata": {},
   "outputs": [
    {
     "name": "stdout",
     "output_type": "stream",
     "text": [
      "Features dim: 2\n",
      "Accuracy:  0.5806577916992952\n",
      "╒═════════╤═══════╤═══════╤══════╤══════════╤═══════╤════════╕\n",
      "│         │   RRd │   RRc │   EW │   RS CVn │    EA │   RRab │\n",
      "╞═════════╪═══════╪═══════╪══════╪══════════╪═══════╪════════╡\n",
      "│ F-score │ 0.061 │ 0.711 │ 0.58 │    0.375 │ 0.081 │  0.252 │\n",
      "╘═════════╧═══════╧═══════╧══════╧══════════╧═══════╧════════╛\n",
      "Confusion matrix, without normalization\n"
     ]
    },
    {
     "data": {
      "image/png": "[encoded data removed]",
      "text/plain": [
       "<Figure size 432x432 with 2 Axes>"
      ]
     },
     "metadata": {
      "needs_background": "light"
     },
     "output_type": "display_data"
    }
   ],
   "source": [
    "data = db[spec_key]\n",
    "probs_spec = train_predict_rf(data, target, save=False, base_path=None)"
   ]
  },
  {
   "cell_type": "markdown",
   "metadata": {},
   "source": [
    "### Mix classification"
   ]
  },
  {
   "cell_type": "code",
   "execution_count": 9,
   "metadata": {},
   "outputs": [
    {
     "name": "stdout",
     "output_type": "stream",
     "text": [
      "Features dim: 9\n",
      "Accuracy:  0.8719655442443226\n",
      "╒═════════╤═══════╤═══════╤═══════╤══════════╤═══════╤════════╕\n",
      "│         │   RRd │   RRc │    EW │   RS CVn │    EA │   RRab │\n",
      "╞═════════╪═══════╪═══════╪═══════╪══════════╪═══════╪════════╡\n",
      "│ F-score │  0.22 │ 0.907 │ 0.878 │    0.554 │ 0.857 │  0.863 │\n",
      "╘═════════╧═══════╧═══════╧═══════╧══════════╧═══════╧════════╛\n",
      "Confusion matrix, without normalization\n"
     ]
    },
    {
     "data": {
      "image/png": "[encoded data removed]",
      "text/plain": [
       "<Figure size 432x432 with 2 Axes>"
      ]
     },
     "metadata": {
      "needs_background": "light"
     },
     "output_type": "display_data"
    }
   ],
   "source": [
    "data = np.hstack([db[ts_key],db[spec_key]])\n",
    "probs_mix = train_predict_rf(data, target, save=True, base_path=model_dir+'mix_rf')"
   ]
  },
  {
   "cell_type": "code",
   "execution_count": 10,
   "metadata": {},
   "outputs": [
    {
     "name": "stdout",
     "output_type": "stream",
     "text": [
      "Time 24.5.s\n"
     ]
    }
   ],
   "source": [
    "t1 = np.round(time()-t0, decimals=2)\n",
    "msg = 'Time '+str(t1)+'.s'\n",
    "print(msg)"
   ]
  },
  {
   "cell_type": "markdown",
   "metadata": {},
   "source": [
    "## Classification change behavior"
   ]
  },
  {
   "cell_type": "code",
   "execution_count": 11,
   "metadata": {},
   "outputs": [
    {
     "name": "stdout",
     "output_type": "stream",
     "text": [
      "{'EA': 148, 'EW': 749, 'RRab': 343, 'RRc': 1193, 'RRd': 78, 'RS CVn': 43}\n",
      "Total: 2554\n"
     ]
    }
   ],
   "source": [
    "vals, counts = np.unique(probs_mix['target'], return_counts=True)\n",
    "print(dict(zip(vals, counts)))\n",
    "print(\"Total:\", np.sum(counts))"
   ]
  },
  {
   "cell_type": "code",
   "execution_count": 12,
   "metadata": {},
   "outputs": [],
   "source": [
    "def get_predictions(probs_ts, probs_mix):\n",
    "    probs = pd.DataFrame()\n",
    "    for column in probs_ts.columns:\n",
    "        if not 'target' in column:\n",
    "            probs[column+'_ts'] = probs_ts[column]\n",
    "\n",
    "    for column in probs_mix.columns:\n",
    "        if not 'target' in column:\n",
    "            probs[column+'_mix'] = probs_mix[column]\n",
    "            \n",
    "    probs['target'] = probs_ts['target']\n",
    "    probs['ts_names'] = db['ts_names']\n",
    "    probs['spec_names'] = db['spec_names']\n",
    "\n",
    "    prefix = np.unique(probs['target'])\n",
    "    cols_ts =  prefix + '_ts'\n",
    "    cols_mix = prefix + '_mix'\n",
    "    idx = range(probs.shape[0])\n",
    "    probs['pred_ts'] = probs[cols_ts].idxmax(axis=1)\n",
    "    probs['pred_ts_prob'] = probs.lookup(idx,probs['pred_ts'])\n",
    "    probs['ground_ts_prob'] = probs.lookup(idx,probs['target'].apply(lambda t: t+'_ts'))\n",
    "    probs['pred_mix'] = probs[cols_mix].idxmax(axis=1)\n",
    "    probs['pred_mix_prob'] = probs.lookup(idx,probs['pred_mix'])\n",
    "    probs['ground_mix_prob'] = probs.lookup(idx,probs['target'].apply(lambda t: t+'_mix'))\n",
    "    probs['pred_ts'] =  probs['pred_ts'].apply(lambda row: row.rstrip('_ts'))\n",
    "    probs['pred_mix'] =  probs['pred_mix'].apply(lambda row: row.rstrip('_mix'))\n",
    "    return probs"
   ]
  },
  {
   "cell_type": "code",
   "execution_count": 13,
   "metadata": {
    "scrolled": true
   },
   "outputs": [
    {
     "data": {
      "text/html": [
       "<div>\n",
       "<style scoped>\n",
       "    .dataframe tbody tr th:only-of-type {\n",
       "        vertical-align: middle;\n",
       "    }\n",
       "\n",
       "    .dataframe tbody tr th {\n",
       "        vertical-align: top;\n",
       "    }\n",
       "\n",
       "    .dataframe thead th {\n",
       "        text-align: right;\n",
       "    }\n",
       "</style>\n",
       "<table border=\"1\" class=\"dataframe\">\n",
       "  <thead>\n",
       "    <tr style=\"text-align: right;\">\n",
       "      <th></th>\n",
       "      <th>EA_ts</th>\n",
       "      <th>EW_ts</th>\n",
       "      <th>RRab_ts</th>\n",
       "      <th>RRc_ts</th>\n",
       "      <th>RRd_ts</th>\n",
       "      <th>RS CVn_ts</th>\n",
       "      <th>EA_mix</th>\n",
       "      <th>EW_mix</th>\n",
       "      <th>RRab_mix</th>\n",
       "      <th>RRc_mix</th>\n",
       "      <th>...</th>\n",
       "      <th>rf_index_mix</th>\n",
       "      <th>target</th>\n",
       "      <th>ts_names</th>\n",
       "      <th>spec_names</th>\n",
       "      <th>pred_ts</th>\n",
       "      <th>pred_ts_prob</th>\n",
       "      <th>ground_ts_prob</th>\n",
       "      <th>pred_mix</th>\n",
       "      <th>pred_mix_prob</th>\n",
       "      <th>ground_mix_prob</th>\n",
       "    </tr>\n",
       "    <tr>\n",
       "      <th>index</th>\n",
       "      <th></th>\n",
       "      <th></th>\n",
       "      <th></th>\n",
       "      <th></th>\n",
       "      <th></th>\n",
       "      <th></th>\n",
       "      <th></th>\n",
       "      <th></th>\n",
       "      <th></th>\n",
       "      <th></th>\n",
       "      <th></th>\n",
       "      <th></th>\n",
       "      <th></th>\n",
       "      <th></th>\n",
       "      <th></th>\n",
       "      <th></th>\n",
       "      <th></th>\n",
       "      <th></th>\n",
       "      <th></th>\n",
       "      <th></th>\n",
       "      <th></th>\n",
       "    </tr>\n",
       "  </thead>\n",
       "  <tbody>\n",
       "    <tr>\n",
       "      <th>0</th>\n",
       "      <td>0.0</td>\n",
       "      <td>0.030</td>\n",
       "      <td>0.005</td>\n",
       "      <td>0.945</td>\n",
       "      <td>0.020</td>\n",
       "      <td>0.0</td>\n",
       "      <td>0.000</td>\n",
       "      <td>0.030</td>\n",
       "      <td>0.000</td>\n",
       "      <td>0.970</td>\n",
       "      <td>...</td>\n",
       "      <td>0</td>\n",
       "      <td>RRc</td>\n",
       "      <td>1132062052528</td>\n",
       "      <td>spec-2112-53534-0521.fits</td>\n",
       "      <td>RRc</td>\n",
       "      <td>0.945</td>\n",
       "      <td>0.945</td>\n",
       "      <td>RRc</td>\n",
       "      <td>0.970</td>\n",
       "      <td>0.970</td>\n",
       "    </tr>\n",
       "    <tr>\n",
       "      <th>1</th>\n",
       "      <td>0.0</td>\n",
       "      <td>0.950</td>\n",
       "      <td>0.005</td>\n",
       "      <td>0.040</td>\n",
       "      <td>0.005</td>\n",
       "      <td>0.0</td>\n",
       "      <td>0.005</td>\n",
       "      <td>0.965</td>\n",
       "      <td>0.015</td>\n",
       "      <td>0.015</td>\n",
       "      <td>...</td>\n",
       "      <td>0</td>\n",
       "      <td>EW</td>\n",
       "      <td>1001072050924</td>\n",
       "      <td>spec-3307-54970-0075.fits</td>\n",
       "      <td>EW</td>\n",
       "      <td>0.950</td>\n",
       "      <td>0.950</td>\n",
       "      <td>EW</td>\n",
       "      <td>0.965</td>\n",
       "      <td>0.965</td>\n",
       "    </tr>\n",
       "    <tr>\n",
       "      <th>2</th>\n",
       "      <td>0.0</td>\n",
       "      <td>0.005</td>\n",
       "      <td>0.985</td>\n",
       "      <td>0.010</td>\n",
       "      <td>0.000</td>\n",
       "      <td>0.0</td>\n",
       "      <td>0.000</td>\n",
       "      <td>0.000</td>\n",
       "      <td>0.995</td>\n",
       "      <td>0.000</td>\n",
       "      <td>...</td>\n",
       "      <td>0</td>\n",
       "      <td>RRab</td>\n",
       "      <td>1121054053106</td>\n",
       "      <td>spec-2477-54058-0261.fits</td>\n",
       "      <td>RRab</td>\n",
       "      <td>0.985</td>\n",
       "      <td>0.985</td>\n",
       "      <td>RRab</td>\n",
       "      <td>0.995</td>\n",
       "      <td>0.995</td>\n",
       "    </tr>\n",
       "    <tr>\n",
       "      <th>3</th>\n",
       "      <td>0.0</td>\n",
       "      <td>0.035</td>\n",
       "      <td>0.025</td>\n",
       "      <td>0.925</td>\n",
       "      <td>0.015</td>\n",
       "      <td>0.0</td>\n",
       "      <td>0.000</td>\n",
       "      <td>0.050</td>\n",
       "      <td>0.005</td>\n",
       "      <td>0.930</td>\n",
       "      <td>...</td>\n",
       "      <td>0</td>\n",
       "      <td>RRc</td>\n",
       "      <td>1126077024700</td>\n",
       "      <td>spec-2474-54564-0169.fits</td>\n",
       "      <td>RRc</td>\n",
       "      <td>0.925</td>\n",
       "      <td>0.925</td>\n",
       "      <td>RRc</td>\n",
       "      <td>0.930</td>\n",
       "      <td>0.930</td>\n",
       "    </tr>\n",
       "    <tr>\n",
       "      <th>4</th>\n",
       "      <td>0.0</td>\n",
       "      <td>0.040</td>\n",
       "      <td>0.000</td>\n",
       "      <td>0.935</td>\n",
       "      <td>0.025</td>\n",
       "      <td>0.0</td>\n",
       "      <td>0.000</td>\n",
       "      <td>0.080</td>\n",
       "      <td>0.000</td>\n",
       "      <td>0.815</td>\n",
       "      <td>...</td>\n",
       "      <td>0</td>\n",
       "      <td>RRc</td>\n",
       "      <td>1138033064612</td>\n",
       "      <td>spec-3661-55614-0596.fits</td>\n",
       "      <td>RRc</td>\n",
       "      <td>0.935</td>\n",
       "      <td>0.935</td>\n",
       "      <td>RRc</td>\n",
       "      <td>0.815</td>\n",
       "      <td>0.815</td>\n",
       "    </tr>\n",
       "  </tbody>\n",
       "</table>\n",
       "<p>5 rows × 22 columns</p>\n",
       "</div>"
      ],
      "text/plain": [
       "       EA_ts  EW_ts  RRab_ts  RRc_ts  RRd_ts  RS CVn_ts  EA_mix  EW_mix  \\\n",
       "index                                                                     \n",
       "0        0.0  0.030    0.005   0.945   0.020        0.0   0.000   0.030   \n",
       "1        0.0  0.950    0.005   0.040   0.005        0.0   0.005   0.965   \n",
       "2        0.0  0.005    0.985   0.010   0.000        0.0   0.000   0.000   \n",
       "3        0.0  0.035    0.025   0.925   0.015        0.0   0.000   0.050   \n",
       "4        0.0  0.040    0.000   0.935   0.025        0.0   0.000   0.080   \n",
       "\n",
       "       RRab_mix  RRc_mix  ...  rf_index_mix  target       ts_names  \\\n",
       "index                     ...                                        \n",
       "0         0.000    0.970  ...             0     RRc  1132062052528   \n",
       "1         0.015    0.015  ...             0      EW  1001072050924   \n",
       "2         0.995    0.000  ...             0    RRab  1121054053106   \n",
       "3         0.005    0.930  ...             0     RRc  1126077024700   \n",
       "4         0.000    0.815  ...             0     RRc  1138033064612   \n",
       "\n",
       "                      spec_names  pred_ts pred_ts_prob ground_ts_prob  \\\n",
       "index                                                                   \n",
       "0      spec-2112-53534-0521.fits      RRc        0.945          0.945   \n",
       "1      spec-3307-54970-0075.fits       EW        0.950          0.950   \n",
       "2      spec-2477-54058-0261.fits     RRab        0.985          0.985   \n",
       "3      spec-2474-54564-0169.fits      RRc        0.925          0.925   \n",
       "4      spec-3661-55614-0596.fits      RRc        0.935          0.935   \n",
       "\n",
       "       pred_mix  pred_mix_prob ground_mix_prob  \n",
       "index                                           \n",
       "0           RRc          0.970           0.970  \n",
       "1            EW          0.965           0.965  \n",
       "2          RRab          0.995           0.995  \n",
       "3           RRc          0.930           0.930  \n",
       "4           RRc          0.815           0.815  \n",
       "\n",
       "[5 rows x 22 columns]"
      ]
     },
     "execution_count": 13,
     "metadata": {},
     "output_type": "execute_result"
    }
   ],
   "source": [
    "probs = get_predictions(probs_ts, probs_mix)\n",
    "probs.to_csv('classification.csv', index=False)\n",
    "probs.head()"
   ]
  },
  {
   "cell_type": "code",
   "execution_count": 14,
   "metadata": {},
   "outputs": [
    {
     "name": "stdout",
     "output_type": "stream",
     "text": [
      "Time 24.64.s\n"
     ]
    }
   ],
   "source": [
    "t2 = np.round(time()-t0, decimals=2)\n",
    "msg = 'Time '+str(t2)+'.s'\n",
    "print(msg)"
   ]
  }
 ],
 "metadata": {
  "kernelspec": {
   "display_name": "Python 3",
   "language": "python",
   "name": "python3"
  },
  "language_info": {
   "codemirror_mode": {
    "name": "ipython",
    "version": 3
   },
   "file_extension": ".py",
   "mimetype": "text/x-python",
   "name": "python",
   "nbconvert_exporter": "python",
   "pygments_lexer": "ipython3",
   "version": "3.6.8"
  }
 },
 "nbformat": 4,
 "nbformat_minor": 2
}
